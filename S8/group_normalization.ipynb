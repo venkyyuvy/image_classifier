{
  "cells": [
    {
      "cell_type": "markdown",
      "metadata": {
        "id": "aO-7t1Y7-hV4"
      },
      "source": [
        "# Import Libraries"
      ]
    },
    {
      "cell_type": "code",
      "execution_count": 1,
      "metadata": {
        "colab": {
          "base_uri": "https://localhost:8080/"
        },
        "id": "7d7vydJswaeZ",
        "outputId": "306cf1cc-13c7-4dfa-9665-82f43e14c159"
      },
      "outputs": [
        {
          "name": "stdout",
          "output_type": "stream",
          "text": [
            "Cloning into 'image_classifier'...\n",
            "remote: Enumerating objects: 84, done.\u001b[K\n",
            "remote: Counting objects: 100% (84/84), done.\u001b[K\n",
            "remote: Compressing objects: 100% (59/59), done.\u001b[K\n",
            "remote: Total 84 (delta 43), reused 65 (delta 25), pack-reused 0\u001b[K\n",
            "Unpacking objects: 100% (84/84), 779.81 KiB | 9.75 MiB/s, done.\n"
          ]
        }
      ],
      "source": [
        "!git clone https://github.com/venkyyuvy/image_classifier.git"
      ]
    },
    {
      "cell_type": "code",
      "execution_count": 2,
      "metadata": {
        "colab": {
          "base_uri": "https://localhost:8080/"
        },
        "id": "Zss2zfDzwciN",
        "outputId": "892c838c-a911-49d4-9f8c-3e0d95626122"
      },
      "outputs": [
        {
          "name": "stdout",
          "output_type": "stream",
          "text": [
            "/content/image_classifier/S7\n"
          ]
        }
      ],
      "source": [
        "cd image_classifier/S7"
      ]
    },
    {
      "cell_type": "code",
      "execution_count": null,
      "metadata": {
        "colab": {
          "base_uri": "https://localhost:8080/"
        },
        "id": "uCLbu1N1_xB_",
        "outputId": "97ddfef1-c1df-421d-c4ff-e6e84e6a7dbf"
      },
      "outputs": [],
      "source": [
        "! nvidia-smi"
      ]
    },
    {
      "cell_type": "code",
      "execution_count": 1,
      "metadata": {
        "id": "8kH16rnZ7wt_"
      },
      "outputs": [],
      "source": [
        "import torch\n",
        "import torch.nn as nn\n",
        "import torch.nn.functional as F\n",
        "import torch.optim as optim\n",
        "from torchvision import datasets, transforms"
      ]
    },
    {
      "cell_type": "markdown",
      "metadata": {
        "id": "ky3f_Odl-7um"
      },
      "source": [
        "## Data Transformations\n",
        "\n",
        "We first start with defining our data transformations. We need to think what our data is and how can we augment it to correct represent images which it might not see otherwise.\n"
      ]
    },
    {
      "cell_type": "code",
      "execution_count": 2,
      "metadata": {
        "id": "YtssFUKb-jqx"
      },
      "outputs": [],
      "source": [
        "# Train Phase transformations\n",
        "train_transforms = transforms.Compose([\n",
        "                                       transforms.RandomRotation((-7.0, 7.0), fill=([1, 1, 1,])),\n",
        "                                       transforms.ToTensor(),\n",
        "                                       transforms.Normalize((0.1307,), (0.3081,))\n",
        "                                       ])\n",
        "\n",
        "# Test Phase transformations\n",
        "test_transforms = transforms.Compose([\n",
        "                                       transforms.ToTensor(),\n",
        "                                       transforms.Normalize((0.1307,), (0.3081,))\n",
        "                                       ])\n"
      ]
    },
    {
      "cell_type": "markdown",
      "metadata": {
        "id": "oQciFYo2B1mO"
      },
      "source": [
        "# Dataset and Creating Train/Test Split"
      ]
    },
    {
      "cell_type": "code",
      "execution_count": 3,
      "metadata": {
        "colab": {
          "base_uri": "https://localhost:8080/"
        },
        "id": "_4A84rlfDA23",
        "outputId": "040323fc-9946-47dd-da4c-b6ed94687cb1"
      },
      "outputs": [
        {
          "name": "stdout",
          "output_type": "stream",
          "text": [
            "Files already downloaded and verified\n",
            "Files already downloaded and verified\n"
          ]
        }
      ],
      "source": [
        "train_data = datasets.CIFAR10('./data', train=True, download=True, transform=train_transforms)\n",
        "test_data = datasets.CIFAR10('./data', train=False, download=True, transform=test_transforms)\n",
        "\n",
        "batch_size=256\n",
        "kwargs = {\n",
        "    'batch_size': batch_size,\n",
        "    'shuffle': True,\n",
        "    'num_workers': 2,\n",
        "    'pin_memory': True}\n",
        "\n",
        "train_loader = torch.utils.data.DataLoader(train_data, **kwargs)\n",
        "kwargs['shuffle']= False\n",
        "test_loader = torch.utils.data.DataLoader(test_data, **kwargs)"
      ]
    },
    {
      "cell_type": "code",
      "execution_count": 4,
      "metadata": {
        "id": "pMcFk08JPcV3"
      },
      "outputs": [],
      "source": [
        "def get_layer(layer_type, in_channel=None, out_channel=None,\n",
        "              dropout_value=0.05):\n",
        "    norm_map = {'batch': nn.BatchNorm2d,\n",
        "     'layer': nn.LayerNorm(batch_size),\n",
        "     'group': nn.GroupNorm} #norm_layer(4, out_channel),\n",
        "\n",
        "    # norm_layer = norm_map[norm]\n",
        "    if layer_type == 'C':\n",
        "        return nn.Sequential(\n",
        "            nn.Conv2d(in_channels=in_channel,\n",
        "                      out_channels=out_channel,\n",
        "                      kernel_size=(3, 3), padding=1, bias=False),\n",
        "            nn.ReLU(),\n",
        "            nn.GroupNorm(4, out_channel),\n",
        "            nn.Dropout(dropout_value)\n",
        "        )\n",
        "    elif layer_type == 'c':\n",
        "        return nn.Conv2d(in_channels=in_channel,\n",
        "                        out_channels=out_channel,\n",
        "                        kernel_size=(1, 1), padding=0, bias=False)\n",
        "    elif layer_type == 'P':\n",
        "        return nn.MaxPool2d(2, 2)\n",
        "    elif layer_type == 'G':\n",
        "        return nn.AdaptiveAvgPool2d(output_size=1)"
      ]
    },
    {
      "cell_type": "code",
      "execution_count": 5,
      "metadata": {
        "id": "khz8lxNDSfIt"
      },
      "outputs": [],
      "source": [
        "class Net(nn.Module):\n",
        "    def __init__(self, schema, channels, dropout_value=0.01):\n",
        "        super(Net, self).__init__()\n",
        "        self.layers = nn.ModuleList()\n",
        "        for layer_type, channel_in, channel_out in zip(\n",
        "            schema, [3, *channels], channels):\n",
        "            self.layers.append(get_layer(\n",
        "                layer_type, channel_in, channel_out,\n",
        "                dropout_value))\n",
        "\n",
        "    def forward(self, x):\n",
        "        for layer in self.layers:\n",
        "            x = layer(x)\n",
        "        x = x.view(-1, 10)\n",
        "        return F.log_softmax(x, dim=-1)"
      ]
    },
    {
      "cell_type": "markdown",
      "metadata": {
        "id": "M3-vp8X9LCWo"
      },
      "source": [
        "# Model Params\n",
        "Can't emphasize on how important viewing Model Summary is.\n",
        "Unfortunately, there is no in-built model visualizer, so we have to take external help"
      ]
    },
    {
      "cell_type": "code",
      "execution_count": 21,
      "metadata": {},
      "outputs": [
        {
          "data": {
            "text/plain": [
              "device(type='cpu')"
            ]
          },
          "execution_count": 21,
          "metadata": {},
          "output_type": "execute_result"
        }
      ],
      "source": [
        "model.layers[0][0].weight.device"
      ]
    },
    {
      "cell_type": "code",
      "execution_count": 11,
      "metadata": {
        "colab": {
          "base_uri": "https://localhost:8080/"
        },
        "id": "5skB97zIJQQe",
        "outputId": "4c1702c7-4453-4eae-a0b9-cde534dbd438"
      },
      "outputs": [
        {
          "name": "stdout",
          "output_type": "stream",
          "text": [
            "Requirement already satisfied: torchsummary in /opt/homebrew/Caskroom/miniforge/base/lib/python3.10/site-packages (1.5.1)\n",
            "mps:0\n",
            "----------------------------------------------------------------\n",
            "        Layer (type)               Output Shape         Param #\n",
            "================================================================\n",
            "            Conv2d-1           [-1, 64, 32, 32]           1,728\n",
            "              ReLU-2           [-1, 64, 32, 32]               0\n",
            "         GroupNorm-3           [-1, 64, 32, 32]             128\n",
            "           Dropout-4           [-1, 64, 32, 32]               0\n",
            "            Conv2d-5           [-1, 32, 32, 32]          18,432\n",
            "              ReLU-6           [-1, 32, 32, 32]               0\n",
            "         GroupNorm-7           [-1, 32, 32, 32]              64\n",
            "           Dropout-8           [-1, 32, 32, 32]               0\n",
            "            Conv2d-9           [-1, 16, 32, 32]             512\n",
            "        MaxPool2d-10           [-1, 16, 16, 16]               0\n",
            "           Conv2d-11            [-1, 8, 16, 16]           1,152\n",
            "             ReLU-12            [-1, 8, 16, 16]               0\n",
            "        GroupNorm-13            [-1, 8, 16, 16]              16\n",
            "          Dropout-14            [-1, 8, 16, 16]               0\n",
            "           Conv2d-15           [-1, 16, 16, 16]           1,152\n",
            "             ReLU-16           [-1, 16, 16, 16]               0\n",
            "        GroupNorm-17           [-1, 16, 16, 16]              32\n",
            "          Dropout-18           [-1, 16, 16, 16]               0\n",
            "           Conv2d-19           [-1, 16, 16, 16]           2,304\n",
            "             ReLU-20           [-1, 16, 16, 16]               0\n",
            "        GroupNorm-21           [-1, 16, 16, 16]              32\n",
            "          Dropout-22           [-1, 16, 16, 16]               0\n",
            "           Conv2d-23           [-1, 32, 16, 16]             512\n",
            "        MaxPool2d-24             [-1, 32, 8, 8]               0\n",
            "           Conv2d-25              [-1, 8, 8, 8]           2,304\n",
            "             ReLU-26              [-1, 8, 8, 8]               0\n",
            "        GroupNorm-27              [-1, 8, 8, 8]              16\n",
            "          Dropout-28              [-1, 8, 8, 8]               0\n",
            "           Conv2d-29             [-1, 16, 8, 8]           1,152\n",
            "             ReLU-30             [-1, 16, 8, 8]               0\n",
            "        GroupNorm-31             [-1, 16, 8, 8]              32\n",
            "          Dropout-32             [-1, 16, 8, 8]               0\n",
            "           Conv2d-33             [-1, 32, 8, 8]           4,608\n",
            "             ReLU-34             [-1, 32, 8, 8]               0\n",
            "        GroupNorm-35             [-1, 32, 8, 8]              64\n",
            "          Dropout-36             [-1, 32, 8, 8]               0\n",
            "AdaptiveAvgPool2d-37             [-1, 32, 1, 1]               0\n",
            "           Conv2d-38             [-1, 10, 1, 1]             320\n",
            "================================================================\n",
            "Total params: 34,560\n",
            "Trainable params: 34,560\n",
            "Non-trainable params: 0\n",
            "----------------------------------------------------------------\n",
            "Input size (MB): 0.01\n",
            "Forward/backward pass size (MB): 3.66\n",
            "Params size (MB): 0.13\n",
            "Estimated Total Size (MB): 3.80\n",
            "----------------------------------------------------------------\n"
          ]
        }
      ],
      "source": [
        "!pip install torchsummary\n",
        "from torchsummary import summary\n",
        "use_cuda = torch.cuda.is_available()\n",
        "# device = torch.device(\"cuda\" if use_cuda else \"cpu\")\n",
        "device='mps:0'\n",
        "print(device)\n",
        "model = Net(\n",
        "    list('CCcPCCCcPCCCGc'),\n",
        "    [64, 32, 16, 16,\n",
        "     8, 16, 16, 32, 32,\n",
        "     8, 16, 32, 32, 10]).to(device)\n",
        "summary(model.to('cpu'), input_size=(3, 32, 32), device='cpu')\n"
      ]
    },
    {
      "cell_type": "markdown",
      "metadata": {
        "id": "1__x_SbrL7z3"
      },
      "source": [
        "# Training and Testing\n",
        "\n",
        "Looking at logs can be boring, so we'll introduce **tqdm** progressbar to get cooler logs.\n",
        "\n",
        "Let's write train and test functions"
      ]
    },
    {
      "cell_type": "markdown",
      "metadata": {
        "id": "drokW8wWODKq"
      },
      "source": [
        "# Let's Train and test our model"
      ]
    },
    {
      "cell_type": "code",
      "execution_count": 22,
      "metadata": {},
      "outputs": [],
      "source": [
        "model = Net(\n",
        "    list('CCcPCCCcPCCCGc'),\n",
        "    [64, 32, 16, 16,\n",
        "     8, 16, 16, 32, 32,\n",
        "     8, 16, 32, 32, 10]).to('mps:0')"
      ]
    },
    {
      "cell_type": "code",
      "execution_count": 23,
      "metadata": {
        "id": "xMCFxeAKOB53"
      },
      "outputs": [
        {
          "name": "stdout",
          "output_type": "stream",
          "text": [
            "EPOCH: 0\n"
          ]
        },
        {
          "name": "stderr",
          "output_type": "stream",
          "text": [
            "Loss=1.724265456199646 Batch_id=195 Accuracy=27.05: 100%|██████████| 196/196 [00:35<00:00,  5.54it/s] \n"
          ]
        },
        {
          "name": "stdout",
          "output_type": "stream",
          "text": [
            "\n",
            "Test set: Average loss: 1.7336, Accuracy: 3646/10000 (36.46%)\n",
            "\n",
            "EPOCH: 1\n"
          ]
        },
        {
          "name": "stderr",
          "output_type": "stream",
          "text": [
            "Loss=1.4324696063995361 Batch_id=195 Accuracy=41.98: 100%|██████████| 196/196 [00:24<00:00,  7.85it/s]\n"
          ]
        },
        {
          "name": "stdout",
          "output_type": "stream",
          "text": [
            "\n",
            "Test set: Average loss: 1.4565, Accuracy: 4660/10000 (46.60%)\n",
            "\n",
            "EPOCH: 2\n"
          ]
        },
        {
          "name": "stderr",
          "output_type": "stream",
          "text": [
            "Loss=1.3120355606079102 Batch_id=195 Accuracy=50.42: 100%|██████████| 196/196 [00:26<00:00,  7.38it/s]\n"
          ]
        },
        {
          "name": "stdout",
          "output_type": "stream",
          "text": [
            "\n",
            "Test set: Average loss: 1.3580, Accuracy: 5053/10000 (50.53%)\n",
            "\n",
            "EPOCH: 3\n"
          ]
        },
        {
          "name": "stderr",
          "output_type": "stream",
          "text": [
            "Loss=1.2118993997573853 Batch_id=195 Accuracy=55.66: 100%|██████████| 196/196 [00:26<00:00,  7.45it/s]\n"
          ]
        },
        {
          "name": "stdout",
          "output_type": "stream",
          "text": [
            "\n",
            "Test set: Average loss: 1.2599, Accuracy: 5450/10000 (54.50%)\n",
            "\n",
            "EPOCH: 4\n"
          ]
        },
        {
          "name": "stderr",
          "output_type": "stream",
          "text": [
            "Loss=1.2679697275161743 Batch_id=195 Accuracy=60.26: 100%|██████████| 196/196 [00:26<00:00,  7.31it/s]\n"
          ]
        },
        {
          "name": "stdout",
          "output_type": "stream",
          "text": [
            "\n",
            "Test set: Average loss: 1.0859, Accuracy: 6122/10000 (61.22%)\n",
            "\n",
            "EPOCH: 5\n"
          ]
        },
        {
          "name": "stderr",
          "output_type": "stream",
          "text": [
            "Loss=1.1732488870620728 Batch_id=195 Accuracy=61.42: 100%|██████████| 196/196 [00:26<00:00,  7.33it/s]\n"
          ]
        },
        {
          "name": "stdout",
          "output_type": "stream",
          "text": [
            "\n",
            "Test set: Average loss: 1.0795, Accuracy: 6117/10000 (61.17%)\n",
            "\n",
            "EPOCH: 6\n"
          ]
        },
        {
          "name": "stderr",
          "output_type": "stream",
          "text": [
            "Loss=1.169724702835083 Batch_id=195 Accuracy=61.89: 100%|██████████| 196/196 [00:25<00:00,  7.65it/s] \n"
          ]
        },
        {
          "name": "stdout",
          "output_type": "stream",
          "text": [
            "\n",
            "Test set: Average loss: 1.0698, Accuracy: 6164/10000 (61.64%)\n",
            "\n",
            "EPOCH: 7\n"
          ]
        },
        {
          "name": "stderr",
          "output_type": "stream",
          "text": [
            "Loss=0.9306310415267944 Batch_id=195 Accuracy=62.28: 100%|██████████| 196/196 [00:26<00:00,  7.38it/s]\n"
          ]
        },
        {
          "name": "stdout",
          "output_type": "stream",
          "text": [
            "\n",
            "Test set: Average loss: 1.0685, Accuracy: 6168/10000 (61.68%)\n",
            "\n",
            "EPOCH: 8\n"
          ]
        },
        {
          "name": "stderr",
          "output_type": "stream",
          "text": [
            "Loss=0.9630191922187805 Batch_id=195 Accuracy=62.61: 100%|██████████| 196/196 [00:26<00:00,  7.33it/s]\n"
          ]
        },
        {
          "name": "stdout",
          "output_type": "stream",
          "text": [
            "\n",
            "Test set: Average loss: 1.0619, Accuracy: 6190/10000 (61.90%)\n",
            "\n",
            "EPOCH: 9\n"
          ]
        },
        {
          "name": "stderr",
          "output_type": "stream",
          "text": [
            "Loss=1.0391228199005127 Batch_id=195 Accuracy=62.39: 100%|██████████| 196/196 [00:26<00:00,  7.39it/s]\n"
          ]
        },
        {
          "name": "stdout",
          "output_type": "stream",
          "text": [
            "\n",
            "Test set: Average loss: 1.0622, Accuracy: 6186/10000 (61.86%)\n",
            "\n",
            "EPOCH: 10\n"
          ]
        },
        {
          "name": "stderr",
          "output_type": "stream",
          "text": [
            "Loss=1.2322075366973877 Batch_id=195 Accuracy=62.57: 100%|██████████| 196/196 [00:26<00:00,  7.32it/s]\n"
          ]
        },
        {
          "name": "stdout",
          "output_type": "stream",
          "text": [
            "\n",
            "Test set: Average loss: 1.0612, Accuracy: 6200/10000 (62.00%)\n",
            "\n",
            "EPOCH: 11\n"
          ]
        },
        {
          "name": "stderr",
          "output_type": "stream",
          "text": [
            "Loss=1.0008989572525024 Batch_id=195 Accuracy=62.54: 100%|██████████| 196/196 [00:25<00:00,  7.58it/s]\n"
          ]
        },
        {
          "name": "stdout",
          "output_type": "stream",
          "text": [
            "\n",
            "Test set: Average loss: 1.0614, Accuracy: 6205/10000 (62.05%)\n",
            "\n",
            "EPOCH: 12\n"
          ]
        },
        {
          "name": "stderr",
          "output_type": "stream",
          "text": [
            "Loss=1.0796979665756226 Batch_id=195 Accuracy=62.32: 100%|██████████| 196/196 [00:26<00:00,  7.48it/s]\n"
          ]
        },
        {
          "name": "stdout",
          "output_type": "stream",
          "text": [
            "\n",
            "Test set: Average loss: 1.0612, Accuracy: 6203/10000 (62.03%)\n",
            "\n",
            "EPOCH: 13\n"
          ]
        },
        {
          "name": "stderr",
          "output_type": "stream",
          "text": [
            "Loss=0.988880455493927 Batch_id=158 Accuracy=62.50:  81%|████████  | 159/196 [00:14<00:02, 16.36it/s] "
          ]
        }
      ],
      "source": [
        "from tqdm import tqdm\n",
        "from torch.optim.lr_scheduler import StepLR\n",
        "from model import train, test\n",
        "\n",
        "optimizer = optim.SGD(model.parameters(), lr=0.01, momentum=0.9)\n",
        "scheduler = StepLR(optimizer, step_size=4, gamma=0.05)\n",
        "\n",
        "EPOCHS =  20\n",
        "for epoch in range(EPOCHS):\n",
        "    print(\"EPOCH:\", epoch)\n",
        "    train(model, device, train_loader, optimizer, epoch)\n",
        "    test(model, device, test_loader)\n",
        "    scheduler.step()"
      ]
    },
    {
      "cell_type": "code",
      "execution_count": null,
      "metadata": {
        "id": "k29G-0w9N69M"
      },
      "outputs": [],
      "source": [
        "import pandas as pd\n",
        "results_df = []\n",
        "for batch_idx, (data, target) in enumerate(test_loader):\n",
        "    data, target = data.to(device), target.to(device)\n",
        "    output = model(data)\n",
        "    pred_label = output.argmax(dim=1)\n",
        "    results_df.append(\n",
        "        pd.DataFrame({\"prediction\": pred_label,\n",
        "                      \"target\": target}))\n",
        "\n",
        "df = pd.concat(results_df).reset_index(drop=True)"
      ]
    },
    {
      "cell_type": "code",
      "execution_count": 20,
      "metadata": {
        "colab": {
          "base_uri": "https://localhost:8080/",
          "height": 859
        },
        "id": "h_-y_tRk7sM3",
        "outputId": "0a8a0d5b-6ef5-45d5-a6ca-f36e16b6427c"
      },
      "outputs": [
        {
          "name": "stdout",
          "output_type": "stream",
          "text": [
            "Files already downloaded and verified\n"
          ]
        },
        {
          "data": {
            "image/png": "[encoded data removed]",
            "text/plain": [
              "<Figure size 1500x1000 with 10 Axes>"
            ]
          },
          "metadata": {},
          "output_type": "display_data"
        }
      ],
      "source": [
        "import matplotlib.pyplot as plt\n",
        "nrows = 2\n",
        "ncols = 5\n",
        "fig, axes = plt.subplots(nrows, ncols, figsize=(25, 10), )\n",
        "norm='Batch'\n",
        "fig.suptitle(f\"Misclassification - norm:{norm}\", weight='bold', size=14)\n",
        "samples = df.query(\"prediction != target\").sample(10)\n",
        "axes = axes.ravel()\n",
        "\n",
        "plot_test_data = datasets.CIFAR10('./data', train=False, download=True,)\n",
        "class_labels = ['airplane', 'automobile', 'bird', 'cat', 'deer',\n",
        "                'dog', 'frog', 'horse', 'ship', 'truck']\n",
        "\n",
        "for (ix, row), ax in zip(samples.iterrows(), axes):\n",
        "    img = plot_test_data[ix][0]\n",
        "    ax.imshow(img, interpolation='nearest')\n",
        "    ax.set_title(f'{class_labels[row.prediction]}| {class_labels[row.target]}', fontsize=12)"
      ]
    }
  ],
  "metadata": {
    "accelerator": "GPU",
    "colab": {
      "gpuType": "T4",
      "provenance": []
    },
    "kernelspec": {
      "display_name": "Python 3.8.17 ('torch-gpu')",
      "language": "python",
      "name": "python3"
    },
    "language_info": {
      "codemirror_mode": {
        "name": "ipython",
        "version": 3
      },
      "file_extension": ".py",
      "mimetype": "text/x-python",
      "name": "python",
      "nbconvert_exporter": "python",
      "pygments_lexer": "ipython3",
      "version": "3.8.17"
    },
    "vscode": {
      "interpreter": {
        "hash": "e1cb4ba5f411cfa4a68a7ea6c2f9ba3655e2604bd37447d058a856eda531fd15"
      }
    }
  },
  "nbformat": 4,
  "nbformat_minor": 0
}
