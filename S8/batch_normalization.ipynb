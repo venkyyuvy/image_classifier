{
  "cells": [
    {
      "cell_type": "markdown",
      "metadata": {
        "id": "aO-7t1Y7-hV4"
      },
      "source": [
        "# Import Libraries"
      ]
    },
    {
      "cell_type": "code",
      "execution_count": 1,
      "metadata": {
        "colab": {
          "base_uri": "https://localhost:8080/"
        },
        "id": "7d7vydJswaeZ",
        "outputId": "aa33bd6d-ac2e-42c0-f85a-1083b75b7498"
      },
      "outputs": [
        {
          "name": "stdout",
          "output_type": "stream",
          "text": [
            "fatal: destination path 'image_classifier' already exists and is not an empty directory.\n"
          ]
        }
      ],
      "source": [
        "!git clone https://github.com/venkyyuvy/image_classifier.git"
      ]
    },
    {
      "cell_type": "code",
      "execution_count": 2,
      "metadata": {
        "colab": {
          "base_uri": "https://localhost:8080/"
        },
        "id": "Zss2zfDzwciN",
        "outputId": "49552cce-86e6-43d1-ffe1-50bc0772abd2"
      },
      "outputs": [
        {
          "name": "stdout",
          "output_type": "stream",
          "text": [
            "/content/image_classifier/S7\n"
          ]
        }
      ],
      "source": [
        "cd image_classifier/S7"
      ]
    },
    {
      "cell_type": "code",
      "execution_count": 3,
      "metadata": {
        "colab": {
          "base_uri": "https://localhost:8080/"
        },
        "id": "uCLbu1N1_xB_",
        "outputId": "b62b3129-4f9a-4a6c-be14-6986f899dcb4"
      },
      "outputs": [
        {
          "name": "stdout",
          "output_type": "stream",
          "text": [
            "/bin/bash: nvidia-smi: command not found\n"
          ]
        }
      ],
      "source": [
        "! nvidia-smi"
      ]
    },
    {
      "cell_type": "code",
      "execution_count": 4,
      "metadata": {
        "id": "8kH16rnZ7wt_"
      },
      "outputs": [],
      "source": [
        "from __future__ import print_function\n",
        "import torch\n",
        "import torch.nn as nn\n",
        "import torch.nn.functional as F\n",
        "import torch.optim as optim\n",
        "from torchvision import datasets, transforms"
      ]
    },
    {
      "cell_type": "markdown",
      "metadata": {
        "id": "ky3f_Odl-7um"
      },
      "source": [
        "## Data Transformations\n",
        "\n",
        "We first start with defining our data transformations. We need to think what our data is and how can we augment it to correct represent images which it might not see otherwise.\n"
      ]
    },
    {
      "cell_type": "code",
      "execution_count": 5,
      "metadata": {
        "id": "YtssFUKb-jqx"
      },
      "outputs": [],
      "source": [
        "# Train Phase transformations\n",
        "train_transforms = transforms.Compose([\n",
        "                                       transforms.RandomRotation((-7.0, 7.0), fill=([1, 1, 1,])),\n",
        "                                       transforms.ToTensor(),\n",
        "                                       transforms.Normalize((0.1307,), (0.3081,)) \n",
        "                                       ])\n",
        "\n",
        "# Test Phase transformations\n",
        "test_transforms = transforms.Compose([\n",
        "                                       transforms.ToTensor(),\n",
        "                                       transforms.Normalize((0.1307,), (0.3081,))\n",
        "                                       ])\n"
      ]
    },
    {
      "cell_type": "markdown",
      "metadata": {
        "id": "oQciFYo2B1mO"
      },
      "source": [
        "# Dataset and Creating Train/Test Split"
      ]
    },
    {
      "cell_type": "code",
      "execution_count": 6,
      "metadata": {
        "colab": {
          "base_uri": "https://localhost:8080/"
        },
        "id": "_4A84rlfDA23",
        "outputId": "c3dc5a69-1dea-4280-c4b8-a4c9981a8a63"
      },
      "outputs": [
        {
          "name": "stdout",
          "output_type": "stream",
          "text": [
            "Files already downloaded and verified\n",
            "Files already downloaded and verified\n"
          ]
        }
      ],
      "source": [
        "train_data = datasets.CIFAR10('./data', train=True, download=True, transform=train_transforms)\n",
        "test_data = datasets.CIFAR10('./data', train=False, download=True, transform=test_transforms)\n",
        "\n",
        "batch_size=256\n",
        "kwargs = {\n",
        "    'batch_size': batch_size,\n",
        "    'shuffle': True,\n",
        "    'num_workers': 2,\n",
        "    'pin_memory': True}\n",
        "\n",
        "train_loader = torch.utils.data.DataLoader(train_data, **kwargs)\n",
        "test_loader = torch.utils.data.DataLoader(test_data, **kwargs)"
      ]
    },
    {
      "cell_type": "markdown",
      "metadata": {
        "id": "qgldp_3-Dn0c"
      },
      "source": [
        "# Dataloader Arguments & Test/Train Dataloaders\n"
      ]
    },
    {
      "cell_type": "markdown",
      "metadata": {
        "id": "ubQL3H6RJL3h"
      },
      "source": [
        "# The model\n",
        "Let's start with the model we first saw"
      ]
    },
    {
      "cell_type": "code",
      "execution_count": 24,
      "metadata": {
        "id": "pMcFk08JPcV3"
      },
      "outputs": [],
      "source": [
        "def get_layer(layer_type, in_channel=None, out_channel=None,\n",
        "              dropout_value=0.05, norm='batch', group=1):\n",
        "    norm_map = {'batch': nn.BatchNorm2d,\n",
        "     'layer': nn.GroupNorm,\n",
        "     'group': nn.GroupNorm} #norm_layer(4, out_channel),\n",
        "    norm_layer = norm_map[norm]\n",
        "    if layer_type == 'C':\n",
        "        return nn.Sequential(\n",
        "            nn.Conv2d(in_channels=in_channel,\n",
        "                      out_channels=out_channel,\n",
        "                      kernel_size=(3, 3), padding=1, bias=False),\n",
        "            nn.ReLU(),\n",
        "            norm_layer(out_channel, out_channel),\n",
        "            nn.Dropout(dropout_value)\n",
        "        )\n",
        "    elif layer_type == 'c':\n",
        "        return nn.Conv2d(in_channels=in_channel,\n",
        "                        out_channels=out_channel,\n",
        "                        kernel_size=(1, 1), padding=0, bias=False)\n",
        "    elif layer_type == 'P':\n",
        "        return nn.MaxPool2d(2, 2)\n",
        "    elif layer_type == 'G':\n",
        "        return nn.AdaptiveAvgPool2d(output_size=1)"
      ]
    },
    {
      "cell_type": "code",
      "execution_count": 25,
      "metadata": {
        "id": "khz8lxNDSfIt"
      },
      "outputs": [],
      "source": [
        "class Net(nn.Module):\n",
        "    def __init__(self, schema, channels, norm='batch', dropout_value=0.01):\n",
        "        super(Net, self).__init__()\n",
        "        self.layers = nn.ModuleList()\n",
        "        for layer_type, channel_in, channel_out in zip(\n",
        "            schema, [3, *channels], channels):\n",
        "            self.layers.append(get_layer(\n",
        "                layer_type, channel_in, channel_out,\n",
        "                dropout_value, norm))\n",
        "\n",
        "    def forward(self, x):\n",
        "        for layer in self.layers:\n",
        "            x = layer(x)\n",
        "        x = x.view(-1, 10)\n",
        "        return F.log_softmax(x, dim=-1)"
      ]
    },
    {
      "cell_type": "markdown",
      "metadata": {
        "id": "M3-vp8X9LCWo"
      },
      "source": [
        "# Model Params\n",
        "Can't emphasize on how important viewing Model Summary is.\n",
        "Unfortunately, there is no in-built model visualizer, so we have to take external help"
      ]
    },
    {
      "cell_type": "code",
      "execution_count": 26,
      "metadata": {
        "colab": {
          "base_uri": "https://localhost:8080/"
        },
        "id": "5skB97zIJQQe",
        "outputId": "8bf7344d-b70f-4be4-f055-f4a335511391"
      },
      "outputs": [
        {
          "name": "stdout",
          "output_type": "stream",
          "text": [
            "cpu\n",
            "----------------------------------------------------------------\n",
            "        Layer (type)               Output Shape         Param #\n",
            "================================================================\n",
            "            Conv2d-1           [-1, 64, 32, 32]           1,728\n",
            "              ReLU-2           [-1, 64, 32, 32]               0\n",
            "         GroupNorm-3           [-1, 64, 32, 32]             128\n",
            "           Dropout-4           [-1, 64, 32, 32]               0\n",
            "            Conv2d-5           [-1, 32, 32, 32]          18,432\n",
            "              ReLU-6           [-1, 32, 32, 32]               0\n",
            "         GroupNorm-7           [-1, 32, 32, 32]              64\n",
            "           Dropout-8           [-1, 32, 32, 32]               0\n",
            "            Conv2d-9           [-1, 16, 32, 32]             512\n",
            "        MaxPool2d-10           [-1, 16, 16, 16]               0\n",
            "           Conv2d-11            [-1, 8, 16, 16]           1,152\n",
            "             ReLU-12            [-1, 8, 16, 16]               0\n",
            "        GroupNorm-13            [-1, 8, 16, 16]              16\n",
            "          Dropout-14            [-1, 8, 16, 16]               0\n",
            "           Conv2d-15           [-1, 16, 16, 16]           1,152\n",
            "             ReLU-16           [-1, 16, 16, 16]               0\n",
            "        GroupNorm-17           [-1, 16, 16, 16]              32\n",
            "          Dropout-18           [-1, 16, 16, 16]               0\n",
            "           Conv2d-19           [-1, 16, 16, 16]           2,304\n",
            "             ReLU-20           [-1, 16, 16, 16]               0\n",
            "        GroupNorm-21           [-1, 16, 16, 16]              32\n",
            "          Dropout-22           [-1, 16, 16, 16]               0\n",
            "           Conv2d-23           [-1, 32, 16, 16]             512\n",
            "        MaxPool2d-24             [-1, 32, 8, 8]               0\n",
            "           Conv2d-25              [-1, 8, 8, 8]           2,304\n",
            "             ReLU-26              [-1, 8, 8, 8]               0\n",
            "        GroupNorm-27              [-1, 8, 8, 8]              16\n",
            "          Dropout-28              [-1, 8, 8, 8]               0\n",
            "           Conv2d-29             [-1, 16, 8, 8]           1,152\n",
            "             ReLU-30             [-1, 16, 8, 8]               0\n",
            "        GroupNorm-31             [-1, 16, 8, 8]              32\n",
            "          Dropout-32             [-1, 16, 8, 8]               0\n",
            "           Conv2d-33             [-1, 32, 8, 8]           4,608\n",
            "             ReLU-34             [-1, 32, 8, 8]               0\n",
            "        GroupNorm-35             [-1, 32, 8, 8]              64\n",
            "          Dropout-36             [-1, 32, 8, 8]               0\n",
            "AdaptiveAvgPool2d-37             [-1, 32, 1, 1]               0\n",
            "           Conv2d-38             [-1, 10, 1, 1]             320\n",
            "================================================================\n",
            "Total params: 34,560\n",
            "Trainable params: 34,560\n",
            "Non-trainable params: 0\n",
            "----------------------------------------------------------------\n",
            "Input size (MB): 0.01\n",
            "Forward/backward pass size (MB): 3.66\n",
            "Params size (MB): 0.13\n",
            "Estimated Total Size (MB): 3.80\n",
            "----------------------------------------------------------------\n"
          ]
        }
      ],
      "source": [
        "# !pip install torchsummary\n",
        "from torchsummary import summary\n",
        "use_cuda = torch.cuda.is_available()\n",
        "device = torch.device(\"cuda\" if use_cuda else \"cpu\")\n",
        "print(device)\n",
        "model = Net(\n",
        "    list('CCcPCCCcPCCCGc'),\n",
        "    [64, 32, 16, 16,\n",
        "     8, 16, 16, 32, 32,\n",
        "     8, 16, 32, 32, 10],\n",
        "    norm='layer').to(device)\n",
        "summary(model, input_size=(3, 32, 32))\n"
      ]
    },
    {
      "cell_type": "markdown",
      "metadata": {
        "id": "1__x_SbrL7z3"
      },
      "source": [
        "# Training and Testing\n",
        "\n",
        "Looking at logs can be boring, so we'll introduce **tqdm** progressbar to get cooler logs.\n",
        "\n",
        "Let's write train and test functions"
      ]
    },
    {
      "cell_type": "markdown",
      "metadata": {
        "id": "drokW8wWODKq"
      },
      "source": [
        "# Let's Train and test our model"
      ]
    },
    {
      "cell_type": "code",
      "execution_count": null,
      "metadata": {
        "colab": {
          "base_uri": "https://localhost:8080/"
        },
        "id": "xMCFxeAKOB53",
        "outputId": "035ef31d-5bcb-4e3d-8c7c-1f5728bbc7c0"
      },
      "outputs": [
        {
          "name": "stdout",
          "output_type": "stream",
          "text": [
            "EPOCH: 0\n"
          ]
        },
        {
          "name": "stderr",
          "output_type": "stream",
          "text": [
            "Loss=2.3022890090942383 Batch_id=91 Accuracy=9.94:  46%|████▋     | 91/196 [01:40<01:48,  1.03s/it]"
          ]
        }
      ],
      "source": [
        "from torch.optim.lr_scheduler import StepLR\n",
        "from model import train, test\n",
        "\n",
        "optimizer = optim.SGD(model.parameters(), lr=0.01, momentum=0.9)\n",
        "scheduler = StepLR(optimizer, step_size=4, gamma=0.05)\n",
        "\n",
        "EPOCHS =  20\n",
        "for epoch in range(EPOCHS):\n",
        "    print(\"EPOCH:\", epoch)\n",
        "    train(model, device, train_loader, optimizer, epoch)\n",
        "    test(model, device, test_loader)\n",
        "    scheduler.step()"
      ]
    },
    {
      "cell_type": "code",
      "execution_count": null,
      "metadata": {
        "colab": {
          "base_uri": "https://localhost:8080/"
        },
        "id": "xMCFxeAKOB53",
        "outputId": "e7522ac1-4f8e-4d38-add2-3a4c54270f9b"
      },
      "outputs": [
        {
          "name": "stdout",
          "output_type": "stream",
          "text": [
            "EPOCH: 0\n"
          ]
        },
        {
          "name": "stderr",
          "output_type": "stream",
          "text": [
            "Loss=1.5161426067352295 Batch_id=195 Accuracy=35.63: 100%|██████████| 196/196 [00:21<00:00,  8.94it/s]\n"
          ]
        },
        {
          "name": "stdout",
          "output_type": "stream",
          "text": [
            "\n",
            "Test set: Average loss: 1.4583, Accuracy: 4569/10000 (45.69%)\n",
            "\n",
            "EPOCH: 1\n"
          ]
        },
        {
          "name": "stderr",
          "output_type": "stream",
          "text": [
            "Loss=1.1219896078109741 Batch_id=195 Accuracy=51.06: 100%|██████████| 196/196 [00:21<00:00,  9.14it/s]\n"
          ]
        },
        {
          "name": "stdout",
          "output_type": "stream",
          "text": [
            "\n",
            "Test set: Average loss: 1.2310, Accuracy: 5460/10000 (54.60%)\n",
            "\n",
            "EPOCH: 2\n"
          ]
        },
        {
          "name": "stderr",
          "output_type": "stream",
          "text": [
            "Loss=1.227708339691162 Batch_id=195 Accuracy=57.33: 100%|██████████| 196/196 [00:20<00:00,  9.62it/s]\n"
          ]
        },
        {
          "name": "stdout",
          "output_type": "stream",
          "text": [
            "\n",
            "Test set: Average loss: 1.3044, Accuracy: 5209/10000 (52.09%)\n",
            "\n",
            "EPOCH: 3\n"
          ]
        },
        {
          "name": "stderr",
          "output_type": "stream",
          "text": [
            "Loss=1.1060349941253662 Batch_id=195 Accuracy=60.37: 100%|██████████| 196/196 [00:20<00:00,  9.68it/s]\n"
          ]
        },
        {
          "name": "stdout",
          "output_type": "stream",
          "text": [
            "\n",
            "Test set: Average loss: 1.2240, Accuracy: 5704/10000 (57.04%)\n",
            "\n",
            "EPOCH: 4\n"
          ]
        },
        {
          "name": "stderr",
          "output_type": "stream",
          "text": [
            "Loss=0.9592254757881165 Batch_id=195 Accuracy=62.86: 100%|██████████| 196/196 [00:21<00:00,  9.28it/s]\n"
          ]
        },
        {
          "name": "stdout",
          "output_type": "stream",
          "text": [
            "\n",
            "Test set: Average loss: 1.1063, Accuracy: 5976/10000 (59.76%)\n",
            "\n",
            "EPOCH: 5\n"
          ]
        },
        {
          "name": "stderr",
          "output_type": "stream",
          "text": [
            "Loss=1.2943319082260132 Batch_id=195 Accuracy=65.10: 100%|██████████| 196/196 [00:22<00:00,  8.90it/s]\n"
          ]
        },
        {
          "name": "stdout",
          "output_type": "stream",
          "text": [
            "\n",
            "Test set: Average loss: 1.1151, Accuracy: 5964/10000 (59.64%)\n",
            "\n",
            "EPOCH: 6\n"
          ]
        },
        {
          "name": "stderr",
          "output_type": "stream",
          "text": [
            "Loss=0.9225438237190247 Batch_id=195 Accuracy=66.24: 100%|██████████| 196/196 [00:21<00:00,  9.12it/s]\n"
          ]
        },
        {
          "name": "stdout",
          "output_type": "stream",
          "text": [
            "\n",
            "Test set: Average loss: 0.9837, Accuracy: 6464/10000 (64.64%)\n",
            "\n",
            "EPOCH: 7\n"
          ]
        },
        {
          "name": "stderr",
          "output_type": "stream",
          "text": [
            "Loss=0.9481978416442871 Batch_id=195 Accuracy=67.21: 100%|██████████| 196/196 [00:20<00:00,  9.39it/s]\n"
          ]
        },
        {
          "name": "stdout",
          "output_type": "stream",
          "text": [
            "\n",
            "Test set: Average loss: 1.0051, Accuracy: 6433/10000 (64.33%)\n",
            "\n",
            "EPOCH: 8\n"
          ]
        },
        {
          "name": "stderr",
          "output_type": "stream",
          "text": [
            "Loss=0.8010505437850952 Batch_id=195 Accuracy=68.37: 100%|██████████| 196/196 [00:20<00:00,  9.61it/s]\n"
          ]
        },
        {
          "name": "stdout",
          "output_type": "stream",
          "text": [
            "\n",
            "Test set: Average loss: 0.9888, Accuracy: 6472/10000 (64.72%)\n",
            "\n",
            "EPOCH: 9\n"
          ]
        },
        {
          "name": "stderr",
          "output_type": "stream",
          "text": [
            "Loss=0.6767370700836182 Batch_id=195 Accuracy=69.22: 100%|██████████| 196/196 [00:20<00:00,  9.46it/s]\n"
          ]
        },
        {
          "name": "stdout",
          "output_type": "stream",
          "text": [
            "\n",
            "Test set: Average loss: 0.8933, Accuracy: 6833/10000 (68.33%)\n",
            "\n",
            "EPOCH: 10\n"
          ]
        },
        {
          "name": "stderr",
          "output_type": "stream",
          "text": [
            "Loss=0.7934720516204834 Batch_id=195 Accuracy=70.04: 100%|██████████| 196/196 [00:21<00:00,  9.00it/s]\n"
          ]
        },
        {
          "name": "stdout",
          "output_type": "stream",
          "text": [
            "\n",
            "Test set: Average loss: 0.8630, Accuracy: 6916/10000 (69.16%)\n",
            "\n",
            "EPOCH: 11\n"
          ]
        },
        {
          "name": "stderr",
          "output_type": "stream",
          "text": [
            "Loss=0.9455052614212036 Batch_id=195 Accuracy=70.73: 100%|██████████| 196/196 [00:21<00:00,  9.02it/s]\n"
          ]
        },
        {
          "name": "stdout",
          "output_type": "stream",
          "text": [
            "\n",
            "Test set: Average loss: 0.8887, Accuracy: 6809/10000 (68.09%)\n",
            "\n",
            "EPOCH: 12\n"
          ]
        },
        {
          "name": "stderr",
          "output_type": "stream",
          "text": [
            "Loss=1.1080459356307983 Batch_id=195 Accuracy=71.17: 100%|██████████| 196/196 [00:21<00:00,  9.26it/s]\n"
          ]
        },
        {
          "name": "stdout",
          "output_type": "stream",
          "text": [
            "\n",
            "Test set: Average loss: 0.9269, Accuracy: 6765/10000 (67.65%)\n",
            "\n",
            "EPOCH: 13\n"
          ]
        },
        {
          "name": "stderr",
          "output_type": "stream",
          "text": [
            "Loss=0.942854106426239 Batch_id=195 Accuracy=71.53: 100%|██████████| 196/196 [00:20<00:00,  9.60it/s]\n"
          ]
        },
        {
          "name": "stdout",
          "output_type": "stream",
          "text": [
            "\n",
            "Test set: Average loss: 0.8569, Accuracy: 6944/10000 (69.44%)\n",
            "\n",
            "EPOCH: 14\n"
          ]
        },
        {
          "name": "stderr",
          "output_type": "stream",
          "text": [
            "Loss=0.5749045610427856 Batch_id=195 Accuracy=72.04: 100%|██████████| 196/196 [00:20<00:00,  9.56it/s]\n"
          ]
        },
        {
          "name": "stdout",
          "output_type": "stream",
          "text": [
            "\n",
            "Test set: Average loss: 0.8919, Accuracy: 6802/10000 (68.02%)\n",
            "\n",
            "EPOCH: 15\n"
          ]
        },
        {
          "name": "stderr",
          "output_type": "stream",
          "text": [
            "Loss=0.8280998468399048 Batch_id=195 Accuracy=72.54: 100%|██████████| 196/196 [00:21<00:00,  9.04it/s]\n"
          ]
        },
        {
          "name": "stdout",
          "output_type": "stream",
          "text": [
            "\n",
            "Test set: Average loss: 0.8510, Accuracy: 7005/10000 (70.05%)\n",
            "\n",
            "EPOCH: 16\n"
          ]
        },
        {
          "name": "stderr",
          "output_type": "stream",
          "text": [
            "Loss=0.7335154414176941 Batch_id=195 Accuracy=73.04: 100%|██████████| 196/196 [00:21<00:00,  8.92it/s]\n"
          ]
        },
        {
          "name": "stdout",
          "output_type": "stream",
          "text": [
            "\n",
            "Test set: Average loss: 0.8113, Accuracy: 7127/10000 (71.27%)\n",
            "\n",
            "EPOCH: 17\n"
          ]
        },
        {
          "name": "stderr",
          "output_type": "stream",
          "text": [
            "Loss=0.674737811088562 Batch_id=195 Accuracy=73.55: 100%|██████████| 196/196 [00:21<00:00,  8.98it/s]\n"
          ]
        },
        {
          "name": "stdout",
          "output_type": "stream",
          "text": [
            "\n",
            "Test set: Average loss: 0.8067, Accuracy: 7098/10000 (70.98%)\n",
            "\n",
            "EPOCH: 18\n"
          ]
        },
        {
          "name": "stderr",
          "output_type": "stream",
          "text": [
            "Loss=0.5310043692588806 Batch_id=195 Accuracy=73.86: 100%|██████████| 196/196 [00:20<00:00,  9.57it/s]\n"
          ]
        },
        {
          "name": "stdout",
          "output_type": "stream",
          "text": [
            "\n",
            "Test set: Average loss: 0.9199, Accuracy: 6820/10000 (68.20%)\n",
            "\n",
            "EPOCH: 19\n"
          ]
        },
        {
          "name": "stderr",
          "output_type": "stream",
          "text": [
            "Loss=0.7671285271644592 Batch_id=195 Accuracy=74.35: 100%|██████████| 196/196 [00:20<00:00,  9.54it/s]\n"
          ]
        },
        {
          "name": "stdout",
          "output_type": "stream",
          "text": [
            "\n",
            "Test set: Average loss: 0.8015, Accuracy: 7153/10000 (71.53%)\n",
            "\n"
          ]
        }
      ],
      "source": [
        "from torch.optim.lr_scheduler import StepLR\n",
        "optimizer = optim.SGD(model.parameters(), lr=0.01, momentum=0.9)\n",
        "scheduler = StepLR(optimizer, step_size=4, gamma=0.05)\n",
        "\n",
        "EPOCHS =  20\n",
        "for epoch in range(EPOCHS):\n",
        "    print(\"EPOCH:\", epoch)\n",
        "    train(model, device, train_loader, optimizer, epoch)\n",
        "    test(model, device, test_loader)"
      ]
    },
    {
      "cell_type": "code",
      "execution_count": null,
      "metadata": {
        "id": "k29G-0w9N69M"
      },
      "outputs": [],
      "source": []
    }
  ],
  "metadata": {
    "colab": {
      "gpuType": "T4",
      "provenance": []
    },
    "kernelspec": {
      "display_name": "Python 3.10.0 ('minitorch')",
      "language": "python",
      "name": "python3"
    },
    "language_info": {
      "name": "python",
      "version": "3.10.0"
    },
    "vscode": {
      "interpreter": {
        "hash": "36638de185fb471a9a02e922fc3d8d0083c97bdd69220bf5d8238d70706ae433"
      }
    }
  },
  "nbformat": 4,
  "nbformat_minor": 0
}
